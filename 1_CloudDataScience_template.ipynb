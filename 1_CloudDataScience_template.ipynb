{
  "cells": [
    {
      "cell_type": "markdown",
      "metadata": {
        "id": "rknwZxQ5O2zS"
      },
      "source": [
        "##**Imports**"
      ]
    },
    {
      "cell_type": "code",
      "execution_count": null,
      "metadata": {
        "id": "lnsOHR-uh18R"
      },
      "outputs": [],
      "source": [
        "# https://dontpad.com/cloud_computing"
      ]
    },
    {
      "cell_type": "code",
      "execution_count": null,
      "metadata": {
        "id": "pD7ooU5wftnT"
      },
      "outputs": [],
      "source": [
        "import pandas as pd  # para dados estruturados/tabulares e alguns semi-estruturados\n",
        "import numpy as np\n",
        "import matplotlib.pyplot as plt\n",
        "import seaborn as sns\n",
        "import warnings\n",
        "warnings.filterwarnings('ignore')"
      ]
    },
    {
      "cell_type": "code",
      "execution_count": null,
      "metadata": {
        "id": "tRyMznSYfxsb"
      },
      "outputs": [],
      "source": [
        "# where to find toy datasets?\n",
        "# https://www.kaggle.com/datasets/chopper53/machine-learning-engineer-salary-in-2024"
      ]
    },
    {
      "cell_type": "markdown",
      "metadata": {
        "id": "p5JcZcXwA-9z"
      },
      "source": [
        "##**Machine Learning Engineer Salary in 2024**\n",
        "\n",
        "This dataset represents salary information for machine learning engineers in the year 2024. It includes details such as the level of experience, employment type, job title, salary amount, currency, employee residence, remote work ratio, company location, and company size. This information allows for analysis of salary trends, employment patterns, and other factors affecting machine learning engineer salaries in various locations and company settings.\n",
        "\n",
        "Description of the main features in dataset:\n",
        "\n",
        "- **work_year:** The year in which the salary data was collected (e.g., 2024).\n",
        "\n",
        "- **experience_level:** The level of experience of the employee (e.g., MI for Mid-Level).\n",
        "\n",
        "- **employment_type:** The type of employment (e.g., FT for Full-Time).\n",
        "\n",
        "- **job_title:** The title of the job (e.g., Data Scientist).\n",
        "\n",
        "- **salary:** The salary amount.\n",
        "\n",
        "- **salary_currency:** The currency in which the salary is denominated (e.g., USD for US Dollars).\n",
        "\n",
        "- **salary_in_usd:** The salary amount converted to US Dollars.\n",
        "employee_residence: The country of residence of the employee (e.g., AU for Australia).\n",
        "\n",
        "- **remote_ratio:** The ratio indicating the level of remote work (0 for no remote work).\n",
        "\n",
        "- **company_location:** The location of the company (e.g., AU for Australia).\n",
        "\n",
        "- **company_size:** The size of the company (e.g., S for Small)."
      ]
    },
    {
      "cell_type": "code",
      "source": [],
      "metadata": {
        "id": "oKMQergMPE6u"
      },
      "execution_count": null,
      "outputs": []
    },
    {
      "cell_type": "markdown",
      "metadata": {
        "id": "LP9H_8jXazeR"
      },
      "source": [
        "##**Univariate Analysis**"
      ]
    },
    {
      "cell_type": "code",
      "source": [],
      "metadata": {
        "id": "fZN3xlT4PK0Y"
      },
      "execution_count": null,
      "outputs": []
    },
    {
      "cell_type": "markdown",
      "metadata": {
        "id": "u5ca7MFmbBjk"
      },
      "source": [
        "##**Multivariate Analysis**"
      ]
    },
    {
      "cell_type": "code",
      "source": [],
      "metadata": {
        "id": "K1DSqgXqPO7Y"
      },
      "execution_count": null,
      "outputs": []
    },
    {
      "cell_type": "markdown",
      "metadata": {
        "id": "YRz7Qlo_a44I"
      },
      "source": [
        "##Project"
      ]
    },
    {
      "cell_type": "markdown",
      "source": [
        "No endereço do [Kaggle](https://www.kaggle.com/datasets/) encontram-se diversos conjuntos de dados relacionados a diferentes domínios.\n",
        "\n",
        "Você e sua equipe deverão escolher um conjunto de dados e realizar a Análise Exploratória de Dados (EAD) tal como feito com o conjunto de dados representativo dos salários de Engenheiros de Machine Learning.\n",
        "\n",
        "No Canvas, haverá um link chamado 'entrega_aula1' para que o grupo poste a atividade desenvolvida e um arquivo em formato Word com os requisitos do projeto."
      ],
      "metadata": {
        "id": "FXKdmaVuvxCz"
      }
    }
  ],
  "metadata": {
    "colab": {
      "provenance": []
    },
    "kernelspec": {
      "display_name": "Python 3",
      "name": "python3"
    },
    "language_info": {
      "name": "python"
    }
  },
  "nbformat": 4,
  "nbformat_minor": 0
}